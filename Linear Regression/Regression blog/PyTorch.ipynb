{
 "cells": [
  {
   "cell_type": "markdown",
   "id": "d8fd3cc6-fa1d-4bff-97ad-970e42e78bf3",
   "metadata": {},
   "source": [
    "# Importing libraries"
   ]
  },
  {
   "cell_type": "code",
   "execution_count": 1,
   "id": "11bb5c9f-5b12-4e8a-b60c-ac68b7dab02b",
   "metadata": {},
   "outputs": [],
   "source": [
    "import torch \n",
    "from torch import nn\n",
    "import numpy as np\n",
    "import matplotlib.pyplot as plt\n",
    "from tqdm.auto import tqdm"
   ]
  },
  {
   "cell_type": "markdown",
   "id": "d8e7cfda-5b6f-4f47-b0c1-be7333cbcd0a",
   "metadata": {},
   "source": [
    "# Data"
   ]
  },
  {
   "cell_type": "code",
   "execution_count": 2,
   "id": "9feb68f8-f01b-48f8-8eeb-88a1c075b75a",
   "metadata": {},
   "outputs": [],
   "source": [
    "X = np.array([1,2,3,4,5,6,7,8,9,10],dtype=np.float32)\n",
    "y = np.array([1,4,9,16,25,36,49,64,81,100],dtype=np.float32)"
   ]
  },
  {
   "cell_type": "markdown",
   "id": "63d59f80-a6e0-4c76-83af-b23d9f5af718",
   "metadata": {},
   "source": [
    "# Convert the data into tensors"
   ]
  },
  {
   "cell_type": "code",
   "execution_count": 3,
   "id": "3d851c8d-8686-4d8f-8ef5-deac743f5f21",
   "metadata": {},
   "outputs": [],
   "source": [
    "X = torch.from_numpy(X.reshape(-1,1)).float()\n",
    "y = torch.from_numpy(y.reshape(-1,1)).float()"
   ]
  },
  {
   "cell_type": "markdown",
   "id": "24b13a00-4765-4d4a-9094-4103bb4a90bb",
   "metadata": {},
   "source": [
    "# Linear regression "
   ]
  },
  {
   "cell_type": "code",
   "execution_count": 4,
   "id": "5e9daa65-4422-46c7-8465-e85e8c04efc3",
   "metadata": {},
   "outputs": [],
   "source": [
    "class LinearRegressionModel(nn.Module):\n",
    "    def __init__(self):\n",
    "        super().__init__()\n",
    "        self.linear = nn.Linear(1,1)\n",
    "        \n",
    "    def forward(self,x):\n",
    "        return self.linear(x)"
   ]
  },
  {
   "cell_type": "markdown",
   "id": "47756c50-37d3-44f3-b47e-e08a30a05945",
   "metadata": {},
   "source": [
    "# Model"
   ]
  },
  {
   "cell_type": "code",
   "execution_count": 5,
   "id": "fae4d8a2-6ee7-48b2-b71b-09508f720109",
   "metadata": {},
   "outputs": [],
   "source": [
    "model = LinearRegressionModel()"
   ]
  },
  {
   "cell_type": "markdown",
   "id": "538d972f-ab54-4543-9a7a-730e34e1280f",
   "metadata": {},
   "source": [
    "# Loss and optimizer funtion"
   ]
  },
  {
   "cell_type": "code",
   "execution_count": 6,
   "id": "2c92ed81-60fa-4d1a-ba2d-98c2fa0941c0",
   "metadata": {},
   "outputs": [],
   "source": [
    "losses = nn.MSELoss()\n",
    "optimizer = torch.optim.SGD(model.parameters(), lr=0.01)"
   ]
  },
  {
   "cell_type": "markdown",
   "id": "95173709-6b28-4cbb-8d9f-00f6bc08d7a0",
   "metadata": {},
   "source": [
    "# Model training"
   ]
  },
  {
   "cell_type": "code",
   "execution_count": 9,
   "id": "6a684681-c670-491a-ac2f-875d1634672f",
   "metadata": {},
   "outputs": [
    {
     "data": {
      "application/vnd.jupyter.widget-view+json": {
       "model_id": "6ec3d024ddd54063b3194e116bcfdc5c",
       "version_major": 2,
       "version_minor": 0
      },
      "text/plain": [
       "  0%|          | 0/200 [00:00<?, ?it/s]"
      ]
     },
     "metadata": {},
     "output_type": "display_data"
    },
    {
     "name": "stdout",
     "output_type": "stream",
     "text": [
      "Epoch [10/200], Loss: 56.6644\n",
      "Epoch [20/200], Loss: 56.3524\n",
      "Epoch [30/200], Loss: 56.0657\n",
      "Epoch [40/200], Loss: 55.8020\n",
      "Epoch [50/200], Loss: 55.5597\n",
      "Epoch [60/200], Loss: 55.3369\n",
      "Epoch [70/200], Loss: 55.1321\n",
      "Epoch [80/200], Loss: 54.9439\n",
      "Epoch [90/200], Loss: 54.7708\n",
      "Epoch [100/200], Loss: 54.6117\n",
      "Epoch [110/200], Loss: 54.4655\n",
      "Epoch [120/200], Loss: 54.3310\n",
      "Epoch [130/200], Loss: 54.2074\n",
      "Epoch [140/200], Loss: 54.0938\n",
      "Epoch [150/200], Loss: 53.9894\n",
      "Epoch [160/200], Loss: 53.8934\n",
      "Epoch [170/200], Loss: 53.8051\n",
      "Epoch [180/200], Loss: 53.7240\n",
      "Epoch [190/200], Loss: 53.6494\n",
      "Epoch [200/200], Loss: 53.5808\n"
     ]
    }
   ],
   "source": [
    "epochs = 200\n",
    "\n",
    "for epoch in tqdm(range(epochs)):\n",
    "    # 1. Forward pass\n",
    "    outputs = model(X)\n",
    "    # 2. Calculate loss\n",
    "    loss = losses(outputs, y)\n",
    "    # 3. Optimizer zero\n",
    "    optimizer.zero_grad()\n",
    "    # 4. Loss backwards\n",
    "    loss.backward()\n",
    "    # 5. Optimizer step\n",
    "    optimizer.step()\n",
    "\n",
    "    # print progress\n",
    "    if (epoch+1) %10==0:\n",
    "        print(f'Epoch [{epoch+1}/{epochs}], Loss: {loss.item():.4f}')"
   ]
  },
  {
   "cell_type": "markdown",
   "id": "8b64e987-06e2-47bf-ba5e-acc2645c93e1",
   "metadata": {},
   "source": [
    "# Prediting the model"
   ]
  },
  {
   "cell_type": "code",
   "execution_count": 12,
   "id": "15a95671-2eda-4bec-8510-d0dadf762201",
   "metadata": {},
   "outputs": [
    {
     "name": "stdout",
     "output_type": "stream",
     "text": [
      "Predicted value: 108.62442016601562\n"
     ]
    }
   ],
   "source": [
    "x_test = torch.tensor([[12.0]])\n",
    "\n",
    "with torch.no_grad():\n",
    "    y_pred = model(x_test)\n",
    "\n",
    "print(f'Predicted value: {y_pred.item()}')"
   ]
  },
  {
   "cell_type": "code",
   "execution_count": null,
   "id": "7f932acb-1bb3-4412-9401-54f799ed46e7",
   "metadata": {},
   "outputs": [],
   "source": []
  }
 ],
 "metadata": {
  "kernelspec": {
   "display_name": "Python 3 (ipykernel)",
   "language": "python",
   "name": "python3"
  },
  "language_info": {
   "codemirror_mode": {
    "name": "ipython",
    "version": 3
   },
   "file_extension": ".py",
   "mimetype": "text/x-python",
   "name": "python",
   "nbconvert_exporter": "python",
   "pygments_lexer": "ipython3",
   "version": "3.11.4"
  }
 },
 "nbformat": 4,
 "nbformat_minor": 5
}
