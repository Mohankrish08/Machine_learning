{
 "cells": [
  {
   "cell_type": "markdown",
   "id": "033b9c2c-91e7-412e-8b76-7815f0e81fb6",
   "metadata": {},
   "source": [
    "# Google Text to Speech API"
   ]
  },
  {
   "cell_type": "code",
   "execution_count": 1,
   "id": "cb5cf3e8-d0bd-4a7d-99a4-37d23fec50d9",
   "metadata": {},
   "outputs": [
    {
     "name": "stdout",
     "output_type": "stream",
     "text": [
      "Collecting gTTS\n",
      "  Downloading gTTS-2.3.2-py3-none-any.whl (28 kB)\n",
      "Requirement already satisfied: requests<3,>=2.27 in e:\\anaconda\\envs\\entropy\\lib\\site-packages (from gTTS) (2.28.1)\n",
      "Requirement already satisfied: click<8.2,>=7.1 in e:\\anaconda\\envs\\entropy\\lib\\site-packages (from gTTS) (8.1.6)\n",
      "Requirement already satisfied: colorama in e:\\anaconda\\envs\\entropy\\lib\\site-packages (from click<8.2,>=7.1->gTTS) (0.4.6)\n",
      "Requirement already satisfied: charset-normalizer<3,>=2 in e:\\anaconda\\envs\\entropy\\lib\\site-packages (from requests<3,>=2.27->gTTS) (2.1.1)\n",
      "Requirement already satisfied: idna<4,>=2.5 in e:\\anaconda\\envs\\entropy\\lib\\site-packages (from requests<3,>=2.27->gTTS) (3.4)\n",
      "Requirement already satisfied: urllib3<1.27,>=1.21.1 in e:\\anaconda\\envs\\entropy\\lib\\site-packages (from requests<3,>=2.27->gTTS) (1.26.13)\n",
      "Requirement already satisfied: certifi>=2017.4.17 in e:\\anaconda\\envs\\entropy\\lib\\site-packages (from requests<3,>=2.27->gTTS) (2022.12.7)\n",
      "Installing collected packages: gTTS\n",
      "Successfully installed gTTS-2.3.2\n"
     ]
    }
   ],
   "source": [
    "!pip install gTTS"
   ]
  },
  {
   "cell_type": "code",
   "execution_count": 2,
   "id": "be256c3e-ce16-4eb1-a498-fbe3fe08ca1d",
   "metadata": {},
   "outputs": [],
   "source": [
    "from gtts import gTTS\n",
    "import os"
   ]
  },
  {
   "cell_type": "code",
   "execution_count": 3,
   "id": "3e1c092c-530a-468e-a2d6-b9e878d2be20",
   "metadata": {},
   "outputs": [],
   "source": [
    "text = 'Hi there, this is Mohan krishnan'"
   ]
  },
  {
   "cell_type": "code",
   "execution_count": 4,
   "id": "eccab3d4-4363-4a18-a6c4-e0c3d0717e9b",
   "metadata": {},
   "outputs": [],
   "source": [
    "text_to_speech = gTTS(text=text, lang='en', slow=False)"
   ]
  },
  {
   "cell_type": "code",
   "execution_count": 5,
   "id": "821b5c8c-f350-4b7b-b120-9d3b8ca0b576",
   "metadata": {},
   "outputs": [],
   "source": [
    "text_to_speech.save('sample.mp3')"
   ]
  },
  {
   "cell_type": "code",
   "execution_count": 6,
   "id": "eef8fb71-a163-42a5-917a-0bdad4f22c7a",
   "metadata": {},
   "outputs": [
    {
     "data": {
      "text/plain": [
       "0"
      ]
     },
     "execution_count": 6,
     "metadata": {},
     "output_type": "execute_result"
    }
   ],
   "source": [
    "os.system('sample.mp3')"
   ]
  },
  {
   "cell_type": "markdown",
   "id": "61c9b21e-1141-4e36-9c4e-4348dd05c91f",
   "metadata": {},
   "source": [
    "# PYTTSX "
   ]
  },
  {
   "cell_type": "code",
   "execution_count": 7,
   "id": "c4ea13ad-571a-455f-ac47-f46497515c8d",
   "metadata": {},
   "outputs": [
    {
     "name": "stdout",
     "output_type": "stream",
     "text": [
      "Requirement already satisfied: pyttsx3 in e:\\anaconda\\envs\\entropy\\lib\\site-packages (2.90)\n",
      "Requirement already satisfied: comtypes in e:\\anaconda\\envs\\entropy\\lib\\site-packages (from pyttsx3) (1.2.0)\n",
      "Requirement already satisfied: pypiwin32 in e:\\anaconda\\envs\\entropy\\lib\\site-packages (from pyttsx3) (223)\n",
      "Requirement already satisfied: pywin32 in e:\\anaconda\\envs\\entropy\\lib\\site-packages (from pyttsx3) (304)\n"
     ]
    }
   ],
   "source": [
    "!pip install pyttsx3"
   ]
  },
  {
   "cell_type": "code",
   "execution_count": 8,
   "id": "23df13af-5439-43b9-b168-a6539e134bca",
   "metadata": {},
   "outputs": [],
   "source": [
    "import pyttsx3"
   ]
  },
  {
   "cell_type": "code",
   "execution_count": 9,
   "id": "3109fe95-5c26-4b48-b98c-f88c68954de4",
   "metadata": {},
   "outputs": [],
   "source": [
    "text_to_speech = pyttsx3.init()"
   ]
  },
  {
   "cell_type": "code",
   "execution_count": 10,
   "id": "4d3f2a0d-393c-4e94-9dc5-540159a075e4",
   "metadata": {},
   "outputs": [],
   "source": [
    "text_to_speech.setProperty('rate', 150)"
   ]
  },
  {
   "cell_type": "code",
   "execution_count": 16,
   "id": "f056949d-0912-45f5-9b12-53c605ab4766",
   "metadata": {},
   "outputs": [],
   "source": [
    "voices = text_to_speech.getProperty('voices')\n",
    "text_to_speech.setProperty('voice', voices[1].id)\n",
    "\n",
    "text_to_speech.say(text)\n",
    "\n",
    "text_to_speech.save_to_file(text, 'test.mp3')\n",
    "\n",
    "text_to_speech.runAndWait()"
   ]
  },
  {
   "cell_type": "code",
   "execution_count": null,
   "id": "1b79bf78-f3b6-4dad-9580-40c50ec5d937",
   "metadata": {},
   "outputs": [],
   "source": []
  }
 ],
 "metadata": {
  "kernelspec": {
   "display_name": "Python 3 (ipykernel)",
   "language": "python",
   "name": "python3"
  },
  "language_info": {
   "codemirror_mode": {
    "name": "ipython",
    "version": 3
   },
   "file_extension": ".py",
   "mimetype": "text/x-python",
   "name": "python",
   "nbconvert_exporter": "python",
   "pygments_lexer": "ipython3",
   "version": "3.11.4"
  }
 },
 "nbformat": 4,
 "nbformat_minor": 5
}
