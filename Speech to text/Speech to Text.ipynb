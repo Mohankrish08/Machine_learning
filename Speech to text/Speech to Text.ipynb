{
 "cells": [
  {
   "cell_type": "code",
   "execution_count": 1,
   "id": "3cdb7012-9141-4e30-b19e-f812d4b7645e",
   "metadata": {},
   "outputs": [],
   "source": [
    "import speech_recognition as sr"
   ]
  },
  {
   "cell_type": "markdown",
   "id": "990c1bd2-901a-49b5-b54b-a6162168ec2e",
   "metadata": {},
   "source": [
    "# Convert Speech to Text in Real time"
   ]
  },
  {
   "cell_type": "code",
   "execution_count": null,
   "id": "a630305d-09ca-4289-950b-ca65145de471",
   "metadata": {},
   "outputs": [
    {
     "name": "stdout",
     "output_type": "stream",
     "text": [
      "Speak now\n",
      "Please say again!!!\n",
      "Speak now\n",
      "Speaker:  hi\n",
      "Speak now\n"
     ]
    }
   ],
   "source": [
    "r = sr.Recognizer()\n",
    "\n",
    "while True:\n",
    "    with sr.Microphone() as source:\n",
    "        r.adjust_for_ambient_noise(source, duration=0.3)\n",
    "\n",
    "        print('Speak now')\n",
    "\n",
    "        audio = r.listen(source)\n",
    "\n",
    "        try:\n",
    "            text = r.recognize_google(audio)\n",
    "            print('Speaker: ',text)\n",
    "            if text == 'quit':\n",
    "                break\n",
    "        except:\n",
    "            print('Please say again!!!')"
   ]
  },
  {
   "cell_type": "code",
   "execution_count": null,
   "id": "b82a4af4-1193-43d5-aa43-de7e31e1f0ad",
   "metadata": {},
   "outputs": [],
   "source": [
    "with sr.AudioFile('test.wav') as source:\n",
    "    print(\"listening to audio\")\n",
    "    # capture the audio\n",
    "    audio = r.listen(source)\n",
    "\n",
    "    try:\n",
    "        text = r.recognize_google(audio)\n",
    "        print(\"Audio:\", text)\n",
    "    except:\n",
    "        print('Error')"
   ]
  }
 ],
 "metadata": {
  "kernelspec": {
   "display_name": "Python 3 (ipykernel)",
   "language": "python",
   "name": "python3"
  },
  "language_info": {
   "codemirror_mode": {
    "name": "ipython",
    "version": 3
   },
   "file_extension": ".py",
   "mimetype": "text/x-python",
   "name": "python",
   "nbconvert_exporter": "python",
   "pygments_lexer": "ipython3",
   "version": "3.11.4"
  }
 },
 "nbformat": 4,
 "nbformat_minor": 5
}
